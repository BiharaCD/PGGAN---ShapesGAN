{
  "nbformat": 4,
  "nbformat_minor": 0,
  "metadata": {
    "colab": {
      "provenance": [],
      "gpuType": "T4",
      "authorship_tag": "ABX9TyMe2LaI7sscThgqHiE47oXH",
      "include_colab_link": true
    },
    "kernelspec": {
      "name": "python3",
      "display_name": "Python 3"
    },
    "language_info": {
      "name": "python"
    },
    "accelerator": "GPU"
  },
  "cells": [
    {
      "cell_type": "markdown",
      "metadata": {
        "id": "view-in-github",
        "colab_type": "text"
      },
      "source": [
        "<a href=\"https://colab.research.google.com/github/BiharaCD/PGGAN---ShapesGAN/blob/main/PGGAN.ipynb\" target=\"_parent\"><img src=\"https://colab.research.google.com/assets/colab-badge.svg\" alt=\"Open In Colab\"/></a>"
      ]
    },
    {
      "cell_type": "code",
      "execution_count": 1,
      "metadata": {
        "colab": {
          "base_uri": "https://localhost:8080/"
        },
        "id": "K5seEB8P3NM1",
        "outputId": "57784035-e74e-47b8-ca72-c92dd279669d"
      },
      "outputs": [
        {
          "output_type": "stream",
          "name": "stdout",
          "text": [
            "PyTorch version: 2.8.0+cu126\n",
            "CUDA available: True Device: Tesla T4\n"
          ]
        }
      ],
      "source": [
        "# Cell 1 — check GPU & install required libs (run once)\n",
        "import torch, sys\n",
        "print(\"PyTorch version:\", torch.__version__)\n",
        "print(\"CUDA available:\", torch.cuda.is_available(), \"Device:\", torch.cuda.get_device_name(0) if torch.cuda.is_available() else \"None\")\n",
        "\n",
        "# Install any missing libs (uncomment if colab lacks them)\n",
        "# !pip install --upgrade torch torchvision tqdm\n"
      ]
    },
    {
      "cell_type": "code",
      "source": [
        "# Cell 2 — upload and unzip (manual upload via file picker)\n",
        "from google.colab import files\n",
        "uploaded = files.upload()   # click and upload shapes_gan.zip\n",
        "# After upload, unzip:\n",
        "import zipfile, os\n",
        "zip_path = next(iter(uploaded.keys()))\n",
        "print(\"Uploaded:\", zip_path)\n",
        "!unzip -q \"{zip_path}\" -d ./shapes_gan_unzipped\n",
        "print(\"Unzipped to ./shapes_gan_unzipped. Files:\")\n",
        "!find ./shapes_gan_unzipped -maxdepth 2 -type f | head -n 20\n"
      ],
      "metadata": {
        "colab": {
          "base_uri": "https://localhost:8080/",
          "height": 455
        },
        "id": "VVHOoN1m4Fl1",
        "outputId": "3dc707f0-b547-47b4-ad18-ed647d003367"
      },
      "execution_count": 2,
      "outputs": [
        {
          "output_type": "display_data",
          "data": {
            "text/plain": [
              "<IPython.core.display.HTML object>"
            ],
            "text/html": [
              "\n",
              "     <input type=\"file\" id=\"files-05c2feb7-47dd-4b0d-805a-08e7e75468a0\" name=\"files[]\" multiple disabled\n",
              "        style=\"border:none\" />\n",
              "     <output id=\"result-05c2feb7-47dd-4b0d-805a-08e7e75468a0\">\n",
              "      Upload widget is only available when the cell has been executed in the\n",
              "      current browser session. Please rerun this cell to enable.\n",
              "      </output>\n",
              "      <script>// Copyright 2017 Google LLC\n",
              "//\n",
              "// Licensed under the Apache License, Version 2.0 (the \"License\");\n",
              "// you may not use this file except in compliance with the License.\n",
              "// You may obtain a copy of the License at\n",
              "//\n",
              "//      http://www.apache.org/licenses/LICENSE-2.0\n",
              "//\n",
              "// Unless required by applicable law or agreed to in writing, software\n",
              "// distributed under the License is distributed on an \"AS IS\" BASIS,\n",
              "// WITHOUT WARRANTIES OR CONDITIONS OF ANY KIND, either express or implied.\n",
              "// See the License for the specific language governing permissions and\n",
              "// limitations under the License.\n",
              "\n",
              "/**\n",
              " * @fileoverview Helpers for google.colab Python module.\n",
              " */\n",
              "(function(scope) {\n",
              "function span(text, styleAttributes = {}) {\n",
              "  const element = document.createElement('span');\n",
              "  element.textContent = text;\n",
              "  for (const key of Object.keys(styleAttributes)) {\n",
              "    element.style[key] = styleAttributes[key];\n",
              "  }\n",
              "  return element;\n",
              "}\n",
              "\n",
              "// Max number of bytes which will be uploaded at a time.\n",
              "const MAX_PAYLOAD_SIZE = 100 * 1024;\n",
              "\n",
              "function _uploadFiles(inputId, outputId) {\n",
              "  const steps = uploadFilesStep(inputId, outputId);\n",
              "  const outputElement = document.getElementById(outputId);\n",
              "  // Cache steps on the outputElement to make it available for the next call\n",
              "  // to uploadFilesContinue from Python.\n",
              "  outputElement.steps = steps;\n",
              "\n",
              "  return _uploadFilesContinue(outputId);\n",
              "}\n",
              "\n",
              "// This is roughly an async generator (not supported in the browser yet),\n",
              "// where there are multiple asynchronous steps and the Python side is going\n",
              "// to poll for completion of each step.\n",
              "// This uses a Promise to block the python side on completion of each step,\n",
              "// then passes the result of the previous step as the input to the next step.\n",
              "function _uploadFilesContinue(outputId) {\n",
              "  const outputElement = document.getElementById(outputId);\n",
              "  const steps = outputElement.steps;\n",
              "\n",
              "  const next = steps.next(outputElement.lastPromiseValue);\n",
              "  return Promise.resolve(next.value.promise).then((value) => {\n",
              "    // Cache the last promise value to make it available to the next\n",
              "    // step of the generator.\n",
              "    outputElement.lastPromiseValue = value;\n",
              "    return next.value.response;\n",
              "  });\n",
              "}\n",
              "\n",
              "/**\n",
              " * Generator function which is called between each async step of the upload\n",
              " * process.\n",
              " * @param {string} inputId Element ID of the input file picker element.\n",
              " * @param {string} outputId Element ID of the output display.\n",
              " * @return {!Iterable<!Object>} Iterable of next steps.\n",
              " */\n",
              "function* uploadFilesStep(inputId, outputId) {\n",
              "  const inputElement = document.getElementById(inputId);\n",
              "  inputElement.disabled = false;\n",
              "\n",
              "  const outputElement = document.getElementById(outputId);\n",
              "  outputElement.innerHTML = '';\n",
              "\n",
              "  const pickedPromise = new Promise((resolve) => {\n",
              "    inputElement.addEventListener('change', (e) => {\n",
              "      resolve(e.target.files);\n",
              "    });\n",
              "  });\n",
              "\n",
              "  const cancel = document.createElement('button');\n",
              "  inputElement.parentElement.appendChild(cancel);\n",
              "  cancel.textContent = 'Cancel upload';\n",
              "  const cancelPromise = new Promise((resolve) => {\n",
              "    cancel.onclick = () => {\n",
              "      resolve(null);\n",
              "    };\n",
              "  });\n",
              "\n",
              "  // Wait for the user to pick the files.\n",
              "  const files = yield {\n",
              "    promise: Promise.race([pickedPromise, cancelPromise]),\n",
              "    response: {\n",
              "      action: 'starting',\n",
              "    }\n",
              "  };\n",
              "\n",
              "  cancel.remove();\n",
              "\n",
              "  // Disable the input element since further picks are not allowed.\n",
              "  inputElement.disabled = true;\n",
              "\n",
              "  if (!files) {\n",
              "    return {\n",
              "      response: {\n",
              "        action: 'complete',\n",
              "      }\n",
              "    };\n",
              "  }\n",
              "\n",
              "  for (const file of files) {\n",
              "    const li = document.createElement('li');\n",
              "    li.append(span(file.name, {fontWeight: 'bold'}));\n",
              "    li.append(span(\n",
              "        `(${file.type || 'n/a'}) - ${file.size} bytes, ` +\n",
              "        `last modified: ${\n",
              "            file.lastModifiedDate ? file.lastModifiedDate.toLocaleDateString() :\n",
              "                                    'n/a'} - `));\n",
              "    const percent = span('0% done');\n",
              "    li.appendChild(percent);\n",
              "\n",
              "    outputElement.appendChild(li);\n",
              "\n",
              "    const fileDataPromise = new Promise((resolve) => {\n",
              "      const reader = new FileReader();\n",
              "      reader.onload = (e) => {\n",
              "        resolve(e.target.result);\n",
              "      };\n",
              "      reader.readAsArrayBuffer(file);\n",
              "    });\n",
              "    // Wait for the data to be ready.\n",
              "    let fileData = yield {\n",
              "      promise: fileDataPromise,\n",
              "      response: {\n",
              "        action: 'continue',\n",
              "      }\n",
              "    };\n",
              "\n",
              "    // Use a chunked sending to avoid message size limits. See b/62115660.\n",
              "    let position = 0;\n",
              "    do {\n",
              "      const length = Math.min(fileData.byteLength - position, MAX_PAYLOAD_SIZE);\n",
              "      const chunk = new Uint8Array(fileData, position, length);\n",
              "      position += length;\n",
              "\n",
              "      const base64 = btoa(String.fromCharCode.apply(null, chunk));\n",
              "      yield {\n",
              "        response: {\n",
              "          action: 'append',\n",
              "          file: file.name,\n",
              "          data: base64,\n",
              "        },\n",
              "      };\n",
              "\n",
              "      let percentDone = fileData.byteLength === 0 ?\n",
              "          100 :\n",
              "          Math.round((position / fileData.byteLength) * 100);\n",
              "      percent.textContent = `${percentDone}% done`;\n",
              "\n",
              "    } while (position < fileData.byteLength);\n",
              "  }\n",
              "\n",
              "  // All done.\n",
              "  yield {\n",
              "    response: {\n",
              "      action: 'complete',\n",
              "    }\n",
              "  };\n",
              "}\n",
              "\n",
              "scope.google = scope.google || {};\n",
              "scope.google.colab = scope.google.colab || {};\n",
              "scope.google.colab._files = {\n",
              "  _uploadFiles,\n",
              "  _uploadFilesContinue,\n",
              "};\n",
              "})(self);\n",
              "</script> "
            ]
          },
          "metadata": {}
        },
        {
          "output_type": "stream",
          "name": "stdout",
          "text": [
            "Saving shapes_gan.zip to shapes_gan (1).zip\n",
            "Uploaded: shapes_gan (1).zip\n",
            "Unzipped to ./shapes_gan_unzipped. Files:\n",
            "./shapes_gan_unzipped/train/img_01297.png\n",
            "./shapes_gan_unzipped/train/img_00033.png\n",
            "./shapes_gan_unzipped/train/img_01328.png\n",
            "./shapes_gan_unzipped/train/img_00735.png\n",
            "./shapes_gan_unzipped/train/img_01543.png\n",
            "./shapes_gan_unzipped/train/img_00231.png\n",
            "./shapes_gan_unzipped/train/img_00303.png\n",
            "./shapes_gan_unzipped/train/img_01756.png\n",
            "./shapes_gan_unzipped/train/img_01649.png\n",
            "./shapes_gan_unzipped/train/img_00549.png\n",
            "./shapes_gan_unzipped/train/img_00601.png\n",
            "./shapes_gan_unzipped/train/img_00791.png\n",
            "./shapes_gan_unzipped/train/img_01334.png\n",
            "./shapes_gan_unzipped/train/img_01424.png\n",
            "./shapes_gan_unzipped/train/img_00243.png\n",
            "./shapes_gan_unzipped/train/img_01023.png\n",
            "./shapes_gan_unzipped/train/img_00995.png\n",
            "./shapes_gan_unzipped/train/img_00481.png\n",
            "./shapes_gan_unzipped/train/img_01674.png\n",
            "./shapes_gan_unzipped/train/img_01312.png\n"
          ]
        }
      ]
    },
    {
      "cell_type": "code",
      "source": [
        "# Cell 3 — dataset + helper DataLoader factory\n",
        "import os\n",
        "from PIL import Image\n",
        "from torchvision import transforms\n",
        "from torch.utils.data import Dataset, DataLoader\n",
        "import glob, random, torch\n",
        "\n",
        "class ShapesDataset(Dataset):\n",
        "    def __init__(self, root_dir, transform=None):\n",
        "        # expects root_dir contains \"train\" (and optional \"val\")\n",
        "        self.paths = sorted(glob.glob(os.path.join(root_dir, \"**\", \"*.png\"), recursive=True))\n",
        "        self.transform = transform\n",
        "    def __len__(self):\n",
        "        return len(self.paths)\n",
        "    def __getitem__(self, idx):\n",
        "        img = Image.open(self.paths[idx]).convert(\"RGB\")\n",
        "        if self.transform:\n",
        "            img = self.transform(img)\n",
        "        return img\n",
        "\n",
        "def get_dataloader(folder, resolution, batch_size, shuffle=True, num_workers=2):\n",
        "    transform = transforms.Compose([\n",
        "        transforms.Resize((resolution, resolution)),\n",
        "        transforms.ToTensor(),\n",
        "        transforms.Normalize([0.5]*3, [0.5]*3)  # [-1,1]\n",
        "    ])\n",
        "    ds = ShapesDataset(folder, transform=transform)\n",
        "    return DataLoader(ds, batch_size=batch_size, shuffle=shuffle, num_workers=num_workers, pin_memory=True)\n",
        "\n",
        "# Example:\n",
        "# dl = get_dataloader(\"./shapes_gan_unzipped/train\", 64, 16)\n",
        "# print(len(dl.dataset))\n"
      ],
      "metadata": {
        "id": "B4bB7y0D4Vcj"
      },
      "execution_count": 3,
      "outputs": []
    },
    {
      "cell_type": "code",
      "source": [
        "# Cell 4 — Progressive Generator + Discriminator (PyTorch)\n",
        "import torch\n",
        "import torch.nn as nn\n",
        "import torch.nn.functional as F\n",
        "from collections import OrderedDict\n",
        "\n",
        "# Utility blocks\n",
        "def conv3x3(in_c, out_c, stride=1):\n",
        "    return nn.Conv2d(in_c, out_c, kernel_size=3, stride=stride, padding=1)\n",
        "\n",
        "class PixelNorm(nn.Module):\n",
        "    def __init__(self, eps=1e-8): super().__init__(); self.eps = eps\n",
        "    def forward(self, x):\n",
        "        return x / torch.sqrt(torch.mean(x**2, dim=1, keepdim=True) + self.eps)\n",
        "\n",
        "class GenInitialBlock(nn.Module):\n",
        "    def __init__(self, z_dim, out_channels):\n",
        "        super().__init__()\n",
        "        self.fc = nn.Linear(z_dim, out_channels*4*4)\n",
        "        self.conv = conv3x3(out_channels, out_channels)\n",
        "        self.lrelu = nn.LeakyReLU(0.2)\n",
        "        self.pn = PixelNorm()\n",
        "    def forward(self, z):\n",
        "        x = self.fc(z).view(z.size(0), -1, 4, 4)\n",
        "        x = self.lrelu(self.conv(self.pn(x)))\n",
        "        return x\n",
        "\n",
        "class GenGeneralBlock(nn.Module):\n",
        "    def __init__(self, in_c, out_c):\n",
        "        super().__init__()\n",
        "        self.upsample = nn.Upsample(scale_factor=2, mode='nearest')\n",
        "        self.conv1 = conv3x3(in_c, out_c)\n",
        "        self.conv2 = conv3x3(out_c, out_c)\n",
        "        self.lrelu = nn.LeakyReLU(0.2)\n",
        "        self.pn = PixelNorm()\n",
        "    def forward(self, x):\n",
        "        x = self.upsample(x)\n",
        "        x = self.lrelu(self.conv1(self.pn(x)))\n",
        "        x = self.lrelu(self.conv2(self.pn(x)))\n",
        "        return x\n",
        "\n",
        "class ToRGB(nn.Module):\n",
        "    def __init__(self, in_c): super().__init__(); self.conv = nn.Conv2d(in_c, 3, kernel_size=1)\n",
        "    def forward(self, x): return self.conv(x)\n",
        "\n",
        "class ProgressiveGenerator(nn.Module):\n",
        "    def __init__(self, z_dim=128, fmap_max=512, fmap_base=512, device='cuda'):\n",
        "        super().__init__()\n",
        "        self.z_dim = z_dim\n",
        "        # channels per resolution: 4->512 ... 64->64\n",
        "        self.channels = {4:512, 8:512, 16:256, 32:128, 64:64}\n",
        "        self.initial = GenInitialBlock(z_dim, self.channels[4])\n",
        "        # store blocks and toRGB per resolution\n",
        "        self.blocks = nn.ModuleList()\n",
        "        self.to_rgbs = nn.ModuleList([ToRGB(self.channels[4])])  # for 4x4\n",
        "        # create blocks for 8,16,32,64\n",
        "        res_list = [8,16,32,64]\n",
        "        prev_c = self.channels[4]\n",
        "        for r in res_list:\n",
        "            c = self.channels[r]\n",
        "            self.blocks.append(GenGeneralBlock(prev_c, c))\n",
        "            self.to_rgbs.append(ToRGB(c))\n",
        "            prev_c = c\n",
        "        self.device = device\n",
        "\n",
        "    def forward(self, z, step, alpha):\n",
        "        \"\"\"\n",
        "        step: 0 -> 4x4; 1 -> 8x8; 2 -> 16x16; 3 -> 32x32; 4 -> 64x64\n",
        "        alpha: fade-in value [0,1] during transition; 1 for stable\n",
        "        \"\"\"\n",
        "        x = self.initial(z)                       # 4x4\n",
        "        if step == 0:\n",
        "            return torch.tanh(self.to_rgbs[0](x))\n",
        "        # iterate blocks up to step-1 (because blocks[0] produces 8x8 from 4x4)\n",
        "        for i in range(step):\n",
        "            x = self.blocks[i](x)\n",
        "            # if we're at the block that is being faded-in (i == step-1), apply alpha blending\n",
        "            if i == step-1 and 0 <= alpha < 1.0:\n",
        "                # old path: upsample previous 4x4->8x8 etc\n",
        "                prev_rgb = self.to_rgbs[i](nn.functional.interpolate(self.initial(z) if i==0 else prev_x, scale_factor=2**(i+1), mode='nearest'))\n",
        "                new_rgb = self.to_rgbs[i+1](x)\n",
        "                return torch.tanh(alpha * new_rgb + (1-alpha) * prev_rgb)\n",
        "            prev_x = x\n",
        "        return torch.tanh(self.to_rgbs[step](x))\n",
        "\n",
        "\n",
        "# Discriminator part\n",
        "class MinibatchStdDev(nn.Module):\n",
        "    def __init__(self):\n",
        "        super().__init__()\n",
        "    def forward(self, x):\n",
        "        batch, c, h, w = x.shape\n",
        "        std = torch.std(x, dim=0, unbiased=False)  # shape (c,h,w)\n",
        "        mean_std = std.mean().view(1,1,1,1).expand(batch,1,h,w)\n",
        "        return torch.cat([x, mean_std], dim=1)\n",
        "\n",
        "class DiscGeneralBlock(nn.Module):\n",
        "    def __init__(self, in_c, out_c):\n",
        "        super().__init__()\n",
        "        self.conv1 = conv3x3(in_c, in_c)\n",
        "        self.conv2 = conv3x3(in_c, out_c)\n",
        "        self.downsample = nn.AvgPool2d(2)\n",
        "        self.lrelu = nn.LeakyReLU(0.2)\n",
        "    def forward(self, x):\n",
        "        x = self.lrelu(self.conv1(x))\n",
        "        x = self.lrelu(self.conv2(x))\n",
        "        x = self.downsample(x)\n",
        "        return x\n",
        "\n",
        "class FromRGB(nn.Module):\n",
        "    def __init__(self, out_c):\n",
        "        super().__init__()\n",
        "        self.conv = nn.Conv2d(3, out_c, kernel_size=1)\n",
        "    def forward(self, x):\n",
        "        return self.conv(x)\n",
        "\n",
        "class ProgressiveDiscriminator(nn.Module):\n",
        "    def __init__(self, fmap_max=512):\n",
        "        super().__init__()\n",
        "        self.channels = {4:512, 8:512, 16:256, 32:128, 64:64}\n",
        "        # fromRGB layers for each resolution (reverse order for convenience)\n",
        "        self.from_rgbs = nn.ModuleList([FromRGB(self.channels[r]) for r in (4,8,16,32,64)])\n",
        "        # blocks from high res -> down to 4x4. blocks[0] reduces 64->32 etc.\n",
        "        self.blocks = nn.ModuleList()\n",
        "        res_pairs = [(64,32),(32,16),(16,8),(8,4)]\n",
        "        for high, low in res_pairs:\n",
        "            self.blocks.append(DiscGeneralBlock(self.channels[high], self.channels[low]))\n",
        "        # final conv and dense\n",
        "        self.mbstd = MinibatchStdDev()\n",
        "        self.conv_final = conv3x3(self.channels[4]+1, self.channels[4])\n",
        "        self.fc = nn.Linear(self.channels[4]*4*4, 1)\n",
        "        self.lrelu = nn.LeakyReLU(0.2)\n",
        "\n",
        "    def forward(self, x, step, alpha):\n",
        "        \"\"\"\n",
        "        step: 0 -> 4x4; 1 -> 8x8; ... 4 -> 64x64\n",
        "        alpha: fade-in factor during transition\n",
        "        \"\"\"\n",
        "        # If step==0, directly fromRGB 4x4\n",
        "        if step == 0:\n",
        "            out = self.from_rgbs[0](x)\n",
        "            out = self.lrelu(self.conv_final(self.mbstd(out)))\n",
        "            out = out.view(out.size(0), -1)\n",
        "            return self.fc(out)\n",
        "\n",
        "        # Get which fromRGB to use for current highest resolution\n",
        "        idx = step  # index in from_rgbs (0->4x4, 1->8x8,...)\n",
        "        # new path: input -> fromRGB at current resolution -> blocks down to 4x4\n",
        "        new = self.from_rgbs[idx](x)\n",
        "        ################## if fading in, also compute downsampled old path and blend\n",
        "        if alpha < 1.0:\n",
        "           down_x = nn.functional.avg_pool2d(x, kernel_size=2)\n",
        "           old = self.from_rgbs[idx-1](down_x)\n",
        "           old_upsampled = nn.functional.interpolate(old, scale_factor=2, mode='nearest')\n",
        "           new = alpha * new + (1 - alpha) * old_upsampled\n",
        "\n",
        "\n",
        "        # pass through blocks from current resolution down to 4x4\n",
        "        out = new\n",
        "        # blocks are ordered 64->32, 32->16, 16->8, 8->4 but step tells how many to apply\n",
        "        for i in range(step-1, -1, -1):\n",
        "            # map i index to block index: when step==4 we need to run blocks[0] first (64->32)\n",
        "            block_idx = (step-1) - i\n",
        "            out = self.blocks[block_idx](out)\n",
        "        out = self.lrelu(self.conv_final(self.mbstd(out)))\n",
        "        out = out.view(out.size(0), -1)\n",
        "        return self.fc(out)\n"
      ],
      "metadata": {
        "id": "8amGJKOE4jnX"
      },
      "execution_count": 10,
      "outputs": []
    },
    {
      "cell_type": "markdown",
      "source": [
        "corrected cell4"
      ],
      "metadata": {
        "id": "cCzi76Ha90Vj"
      }
    },
    {
      "cell_type": "code",
      "source": [
        "# Cell 4 — Progressive Generator + Discriminator (PyTorch)  (CORRECTED)\n",
        "import torch\n",
        "import torch.nn as nn\n",
        "import torch.nn.functional as F\n",
        "from collections import OrderedDict\n",
        "\n",
        "# Utility blocks\n",
        "def conv3x3(in_c, out_c, stride=1):\n",
        "    return nn.Conv2d(in_c, out_c, kernel_size=3, stride=stride, padding=1)\n",
        "\n",
        "class PixelNorm(nn.Module):\n",
        "    def __init__(self, eps=1e-8): super().__init__(); self.eps = eps\n",
        "    def forward(self, x):\n",
        "        return x / torch.sqrt(torch.mean(x**2, dim=1, keepdim=True) + self.eps)\n",
        "\n",
        "class GenInitialBlock(nn.Module):\n",
        "    def __init__(self, z_dim, out_channels):\n",
        "        super().__init__()\n",
        "        self.fc = nn.Linear(z_dim, out_channels*4*4)\n",
        "        self.conv = conv3x3(out_channels, out_channels)\n",
        "        self.lrelu = nn.LeakyReLU(0.2)\n",
        "        self.pn = PixelNorm()\n",
        "    def forward(self, z):\n",
        "        x = self.fc(z).view(z.size(0), -1, 4, 4)\n",
        "        x = self.lrelu(self.conv(self.pn(x)))\n",
        "        return x\n",
        "\n",
        "class GenGeneralBlock(nn.Module):\n",
        "    def __init__(self, in_c, out_c):\n",
        "        super().__init__()\n",
        "        self.upsample = nn.Upsample(scale_factor=2, mode='nearest')\n",
        "        self.conv1 = conv3x3(in_c, out_c)\n",
        "        self.conv2 = conv3x3(out_c, out_c)\n",
        "        self.lrelu = nn.LeakyReLU(0.2)\n",
        "        self.pn = PixelNorm()\n",
        "    def forward(self, x):\n",
        "        x = self.upsample(x)\n",
        "        x = self.lrelu(self.conv1(self.pn(x)))\n",
        "        x = self.lrelu(self.conv2(self.pn(x)))\n",
        "        return x\n",
        "\n",
        "class ToRGB(nn.Module):\n",
        "    def __init__(self, in_c): super().__init__(); self.conv = nn.Conv2d(in_c, 3, kernel_size=1)\n",
        "    def forward(self, x): return self.conv(x)\n",
        "\n",
        "class ProgressiveGenerator(nn.Module):\n",
        "    def __init__(self, z_dim=128, device='cuda'):\n",
        "        super().__init__()\n",
        "        self.z_dim = z_dim\n",
        "        # channels per resolution: 4->512, 8->512, 16->256, 32->128, 64->64\n",
        "        self.resolutions = [4,8,16,32,64]\n",
        "        self.channels = {4:512, 8:512, 16:256, 32:128, 64:64}\n",
        "        self.initial = GenInitialBlock(z_dim, self.channels[4])\n",
        "        # store blocks and toRGB per resolution\n",
        "        self.blocks = nn.ModuleList()\n",
        "        self.to_rgbs = nn.ModuleList([ToRGB(self.channels[4])])  # for 4x4\n",
        "        # create blocks for 8,16,32,64\n",
        "        prev_c = self.channels[4]\n",
        "        for r in self.resolutions[1:]:\n",
        "            c = self.channels[r]\n",
        "            self.blocks.append(GenGeneralBlock(prev_c, c))\n",
        "            self.to_rgbs.append(ToRGB(c))\n",
        "            prev_c = c\n",
        "        self.device = device\n",
        "\n",
        "    def forward(self, z, step, alpha):\n",
        "        \"\"\"\n",
        "        step: 0 -> 4x4; 1 -> 8x8; 2 -> 16x16; 3 -> 32x32; 4 -> 64x64\n",
        "        alpha: fade-in value [0,1] during transition; 1 for stable\n",
        "        \"\"\"\n",
        "        x = self.initial(z)                       # 4x4\n",
        "        if step == 0:\n",
        "            return torch.tanh(self.to_rgbs[0](x))\n",
        "        prev_x = None\n",
        "        for i in range(step):\n",
        "            prev_x = x\n",
        "            x = self.blocks[i](x)\n",
        "            # fade-in at the block being added (i == step-1)\n",
        "            if i == step-1 and 0 <= alpha < 1.0:\n",
        "                # previous RGB (upsample prev_x then toRGB of prev level)\n",
        "                prev_rgb = self.to_rgbs[i](nn.functional.interpolate(prev_x, scale_factor=2, mode='nearest'))\n",
        "                new_rgb = self.to_rgbs[i+1](x)\n",
        "                return torch.tanh(alpha * new_rgb + (1 - alpha) * prev_rgb)\n",
        "        return torch.tanh(self.to_rgbs[step](x))\n",
        "\n",
        "\n",
        "# Discriminator part\n",
        "class MinibatchStdDev(nn.Module):\n",
        "    def __init__(self):\n",
        "        super().__init__()\n",
        "    def forward(self, x):\n",
        "        batch, c, h, w = x.shape\n",
        "        std = torch.std(x, dim=0, unbiased=False)  # shape (c,h,w)\n",
        "        mean_std = std.mean().view(1,1,1,1).expand(batch,1,h,w)\n",
        "        return torch.cat([x, mean_std], dim=1)\n",
        "\n",
        "class DiscGeneralBlock(nn.Module):\n",
        "    def __init__(self, in_c, out_c):\n",
        "        super().__init__()\n",
        "        # in_c := channels at current (higher) resolution\n",
        "        # out_c := channels at next (lower) resolution (after downsampling)\n",
        "        self.conv1 = conv3x3(in_c, in_c)\n",
        "        self.conv2 = conv3x3(in_c, out_c)\n",
        "        self.downsample = nn.AvgPool2d(2)\n",
        "        self.lrelu = nn.LeakyReLU(0.2)\n",
        "    def forward(self, x):\n",
        "        x = self.lrelu(self.conv1(x))\n",
        "        x = self.lrelu(self.conv2(x))\n",
        "        x = self.downsample(x)\n",
        "        return x\n",
        "\n",
        "class FromRGB(nn.Module):\n",
        "    def __init__(self, out_c):\n",
        "        super().__init__()\n",
        "        self.conv = nn.Conv2d(3, out_c, kernel_size=1)\n",
        "    def forward(self, x):\n",
        "        return self.conv(x)\n",
        "\n",
        "class ProgressiveDiscriminator(nn.Module):\n",
        "    def __init__(self):\n",
        "        super().__init__()\n",
        "        # same resolution-channel mapping as generator\n",
        "        self.resolutions = [4,8,16,32,64]\n",
        "        self.channels = {4:512, 8:512, 16:256, 32:128, 64:64}\n",
        "        # fromRGB layers for each resolution in increasing order (4,8,16,32,64)\n",
        "        self.from_rgbs = nn.ModuleList([FromRGB(self.channels[r]) for r in self.resolutions])\n",
        "        # blocks list: from highest resolution -> down to 4x4\n",
        "        # we create blocks for pairs: (64->32), (32->16), (16->8), (8->4) in that order\n",
        "        self.blocks = nn.ModuleList()\n",
        "        res_pairs = [(64,32),(32,16),(16,8),(8,4)]\n",
        "        for high, low in res_pairs:\n",
        "            self.blocks.append(DiscGeneralBlock(self.channels[high], self.channels[low]))\n",
        "        # final conv and dense (for 4x4)\n",
        "        self.mbstd = MinibatchStdDev()\n",
        "        self.conv_final = conv3x3(self.channels[4] + 1, self.channels[4])\n",
        "        self.fc = nn.Linear(self.channels[4]*4*4, 1)\n",
        "        self.lrelu = nn.LeakyReLU(0.2)\n",
        "\n",
        "    def forward(self, x, step, alpha):\n",
        "        \"\"\"\n",
        "        step: 0 -> 4x4; 1 -> 8x8; 2 -> 16x16; 3 -> 32x32; 4 -> 64x64\n",
        "        alpha: fade-in factor during transition\n",
        "        \"\"\"\n",
        "        # step 0: directly 4x4 path\n",
        "        if step == 0:\n",
        "            out = self.from_rgbs[0](x)            # map RGB->features for 4x4\n",
        "            out = self.lrelu(self.conv_final(self.mbstd(out)))\n",
        "            out = out.view(out.size(0), -1)\n",
        "            return self.fc(out)\n",
        "\n",
        "        # index in resolutions/from_rgbs for current step\n",
        "        idx = step  # 1->8, 2->16, ...\n",
        "        # new path: use from_rgb at current resolution\n",
        "        new = self.from_rgbs[idx](x)   # shape (N, channels[idx], H, W)\n",
        "\n",
        "        # fade-in blending: get old path from lower resolution, upsample it,\n",
        "        # then align channels (truncate or pad) before blending.\n",
        "        if alpha < 1.0:\n",
        "            # downsample image (RGB) to previous resolution and convert\n",
        "            down_x = F.avg_pool2d(x, kernel_size=2)\n",
        "            old = self.from_rgbs[idx-1](down_x)   # shape (N, channels[idx-1], H/2, W/2)\n",
        "            old_upsampled = F.interpolate(old, scale_factor=2, mode='nearest')  # (N, c_old, H, W)\n",
        "\n",
        "            # align channels between old_upsampled and new (simple deterministic map)\n",
        "            c_new = new.shape[1]\n",
        "            c_old = old_upsampled.shape[1]\n",
        "            if c_old > c_new:\n",
        "                old_upsampled = old_upsampled[:, :c_new, :, :]\n",
        "            elif c_old < c_new:\n",
        "                pad = torch.zeros(old_upsampled.size(0), c_new - c_old, old_upsampled.size(2), old_upsampled.size(3), device=old_upsampled.device)\n",
        "                old_upsampled = torch.cat([old_upsampled, pad], dim=1)\n",
        "\n",
        "            new = alpha * new + (1 - alpha) * old_upsampled\n",
        "\n",
        "        # Now pass through the correct sequence of blocks from current resolution down to 4x4.\n",
        "        # blocks list is ordered: [ (64->32), (32->16), (16->8), (8->4) ]\n",
        "        # For a given step, we need to apply the LAST `step` blocks (because step counts up from 4).\n",
        "        # Example: step=1 (8x8) -> apply only blocks[3] (8->4)\n",
        "        #          step=4 (64x64) -> apply blocks[0], blocks[1], blocks[2], blocks[3]\n",
        "        total_blocks = len(self.blocks)\n",
        "        start_idx = total_blocks - step      # starting block index to run\n",
        "        out = new\n",
        "        for j in range(start_idx, total_blocks):\n",
        "            out = self.blocks[j](out)\n",
        "\n",
        "        out = self.lrelu(self.conv_final(self.mbstd(out)))\n",
        "        out = out.view(out.size(0), -1)\n",
        "        return self.fc(out)\n"
      ],
      "metadata": {
        "id": "jOHpkKKh92Y7"
      },
      "execution_count": 13,
      "outputs": []
    },
    {
      "cell_type": "code",
      "source": [
        "# Cell 5 — helpers: init weights, gradient penalty, saving samples\n",
        "import torch.autograd as autograd\n",
        "import torchvision.utils as vutils\n",
        "import os\n",
        "\n",
        "def weights_init(m):\n",
        "    if isinstance(m, (nn.Conv2d, nn.Linear)):\n",
        "        nn.init.normal_(m.weight, 0.0, 0.02)\n",
        "        if m.bias is not None:\n",
        "            nn.init.constant_(m.bias, 0)\n",
        "\n",
        "def compute_gradient_penalty(D, real_samples, fake_samples, step, alpha, device='cuda', lambda_gp=10.0):\n",
        "    batch_size = real_samples.size(0)\n",
        "    epsilon = torch.rand(batch_size, 1, 1, 1, device=device)\n",
        "    interpolates = epsilon * real_samples + (1 - epsilon) * fake_samples\n",
        "    interpolates.requires_grad_(True)\n",
        "    d_interpolates = D(interpolates, step, alpha)\n",
        "    grads = autograd.grad(outputs=d_interpolates, inputs=interpolates,\n",
        "                          grad_outputs=torch.ones_like(d_interpolates),\n",
        "                          create_graph=True, retain_graph=True, only_inputs=True)[0]\n",
        "    grads = grads.view(grads.size(0), -1)\n",
        "    grad_norm = grads.norm(2, dim=1)\n",
        "    gp = lambda_gp * ((grad_norm - 1) ** 2).mean()\n",
        "    return gp\n",
        "\n",
        "def save_image_grid(tensor, filename, nrow=8):\n",
        "    # tensor in range [-1,1]\n",
        "    grid = vutils.make_grid((tensor+1)/2, nrow=nrow, padding=2, normalize=False)\n",
        "    vutils.save_image(grid, filename)\n"
      ],
      "metadata": {
        "id": "jkiA-N_h59yy"
      },
      "execution_count": 14,
      "outputs": []
    },
    {
      "cell_type": "code",
      "source": [
        "# Cell 6 — training loop (progressive)\n",
        "import time\n",
        "from tqdm import tqdm\n",
        "\n",
        "device = torch.device(\"cuda\" if torch.cuda.is_available() else \"cpu\")\n",
        "\n",
        "# Hyperparams (change as needed)\n",
        "z_dim = 128\n",
        "batch_size = 16\n",
        "n_critic = 1\n",
        "lr = 1e-4\n",
        "betas = (0.0, 0.99)\n",
        "lambda_gp = 10.0\n",
        "\n",
        "# progressive schedule\n",
        "resolutions = [4,8,16,32,64]\n",
        "max_step = len(resolutions)-1\n",
        "\n",
        "# epochs per phase — small for example, increase for real training\n",
        "transition_epochs = 3     # fade-in epochs\n",
        "stabilize_epochs = 3      # epochs after fade finishes\n",
        "save_dir = \"./pgan_checkpoints\"\n",
        "os.makedirs(save_dir, exist_ok=True)\n",
        "\n",
        "# init models\n",
        "G = ProgressiveGenerator(z_dim=z_dim, device=device).to(device)\n",
        "D = ProgressiveDiscriminator().to(device)\n",
        "G.apply(weights_init)\n",
        "D.apply(weights_init)\n",
        "\n",
        "opt_G = torch.optim.Adam(G.parameters(), lr=lr, betas=betas)\n",
        "opt_D = torch.optim.Adam(D.parameters(), lr=lr, betas=betas)\n",
        "\n",
        "fixed_z = torch.randn(16, z_dim, device=device)\n",
        "\n",
        "global_step = 0\n",
        "for step, resolution in enumerate(resolutions):\n",
        "    print(f\"\\n*** Training at resolution {resolution}x{resolution} (step {step}) ***\")\n",
        "    # build dataloader for this resolution\n",
        "    data_folder = \"./shapes_gan_unzipped/train\"  # modify if needed\n",
        "    dl = get_dataloader(data_folder, resolution, batch_size, shuffle=True)\n",
        "    iters_per_epoch = len(dl)\n",
        "    # PHASE 1: transition (fade-in)\n",
        "    for phase, epochs in [(\"transition\", transition_epochs), (\"stabilize\", stabilize_epochs)]:\n",
        "        print(f\" Phase: {phase} for {epochs} epochs\")\n",
        "        for epoch in range(epochs):\n",
        "            pbar = tqdm(dl, desc=f\"Res{resolution} E{epoch+1}/{epochs}\")\n",
        "            alpha = 0.0 if phase==\"transition\" else 1.0\n",
        "            # if transition, we increase alpha gradually over batches\n",
        "            if phase == \"transition\":\n",
        "                total_transition_steps = transition_epochs * iters_per_epoch\n",
        "                alpha_step = 1.0 / (total_transition_steps + 1e-8)\n",
        "            for imgs in pbar:\n",
        "                imgs = imgs.to(device)\n",
        "                batch_size_cur = imgs.size(0)\n",
        "                # update alpha if in transition\n",
        "                if phase == \"transition\":\n",
        "                    alpha = min(1.0, alpha + alpha_step)\n",
        "                # ---------------------\n",
        "                #  Train Discriminator (WGAN-GP)\n",
        "                # ---------------------\n",
        "                z = torch.randn(batch_size_cur, z_dim, device=device)\n",
        "                fake_imgs = G(z, step, alpha).detach()\n",
        "                D_real = D(imgs, step, alpha)\n",
        "                D_fake = D(fake_imgs, step, alpha)\n",
        "                gp = compute_gradient_penalty(D, imgs.data, fake_imgs.data, step, alpha, device, lambda_gp)\n",
        "                d_loss = (D_fake.mean() - D_real.mean()) + gp\n",
        "                opt_D.zero_grad(); d_loss.backward(); opt_D.step()\n",
        "                # ---------------------\n",
        "                #  Train Generator\n",
        "                # ---------------------\n",
        "                if global_step % n_critic == 0:\n",
        "                    z = torch.randn(batch_size_cur, z_dim, device=device)\n",
        "                    fake_imgs = G(z, step, alpha)\n",
        "                    g_loss = -D(fake_imgs, step, alpha).mean()\n",
        "                    opt_G.zero_grad(); g_loss.backward(); opt_G.step()\n",
        "\n",
        "                global_step += 1\n",
        "                if global_step % 200 == 0:\n",
        "                    # save sample\n",
        "                    G.eval()\n",
        "                    with torch.no_grad():\n",
        "                        samples = G(fixed_z, step, alpha).cpu()\n",
        "                        save_image_grid(samples, f\"{save_dir}/sample_step{global_step}_res{resolution}.png\", nrow=4)\n",
        "                    G.train()\n",
        "                # tqdm postfix\n",
        "                pbar.set_postfix({'d_loss': f\"{d_loss.item():.4f}\", 'g_loss': f\"{(g_loss.item() if 'g_loss' in locals() else 0):.4f}\", 'alpha': f\"{alpha:.3f}\"})\n",
        "            # end epoch\n",
        "        # end phase\n",
        "    # after finishing this resolution:\n",
        "    torch.save({'G_state': G.state_dict(), 'D_state': D.state_dict(), 'opt_G': opt_G.state_dict(), 'opt_D': opt_D.state_dict(), 'step': step}, f\"{save_dir}/pgan_checkpoint_res{resolution}.pt\")\n",
        "    print(f\"Saved checkpoint for resolution {resolution}\")\n",
        "# done all resolutions\n",
        "print(\"Training finished (all scheduled resolutions).\")\n"
      ],
      "metadata": {
        "colab": {
          "base_uri": "https://localhost:8080/"
        },
        "id": "8FQuhdB24sO6",
        "outputId": "fd881765-38bf-4268-cf88-30becf41ad5b"
      },
      "execution_count": 15,
      "outputs": [
        {
          "output_type": "stream",
          "name": "stdout",
          "text": [
            "\n",
            "*** Training at resolution 4x4 (step 0) ***\n",
            " Phase: transition for 3 epochs\n"
          ]
        },
        {
          "output_type": "stream",
          "name": "stderr",
          "text": [
            "Res4 E1/3: 100%|██████████| 125/125 [00:02<00:00, 46.78it/s, d_loss=0.8358, g_loss=-0.6595, alpha=0.333]\n",
            "Res4 E2/3: 100%|██████████| 125/125 [00:02<00:00, 47.36it/s, d_loss=-1.2809, g_loss=2.1109, alpha=0.333]\n",
            "Res4 E3/3: 100%|██████████| 125/125 [00:03<00:00, 37.66it/s, d_loss=-0.3543, g_loss=2.1870, alpha=0.333]\n"
          ]
        },
        {
          "output_type": "stream",
          "name": "stdout",
          "text": [
            " Phase: stabilize for 3 epochs\n"
          ]
        },
        {
          "output_type": "stream",
          "name": "stderr",
          "text": [
            "Res4 E1/3: 100%|██████████| 125/125 [00:02<00:00, 46.16it/s, d_loss=-0.4020, g_loss=1.6585, alpha=1.000]\n",
            "Res4 E2/3: 100%|██████████| 125/125 [00:02<00:00, 46.67it/s, d_loss=0.0613, g_loss=1.1449, alpha=1.000]\n",
            "Res4 E3/3: 100%|██████████| 125/125 [00:02<00:00, 46.35it/s, d_loss=-0.4458, g_loss=0.5253, alpha=1.000]\n"
          ]
        },
        {
          "output_type": "stream",
          "name": "stdout",
          "text": [
            "Saved checkpoint for resolution 4\n",
            "\n",
            "*** Training at resolution 8x8 (step 1) ***\n",
            " Phase: transition for 3 epochs\n"
          ]
        },
        {
          "output_type": "stream",
          "name": "stderr",
          "text": [
            "Res8 E1/3: 100%|██████████| 125/125 [00:07<00:00, 17.05it/s, d_loss=0.8057, g_loss=-1.6468, alpha=0.333]\n",
            "Res8 E2/3: 100%|██████████| 125/125 [00:07<00:00, 17.84it/s, d_loss=0.5478, g_loss=-1.6394, alpha=0.333]\n",
            "Res8 E3/3: 100%|██████████| 125/125 [00:07<00:00, 17.66it/s, d_loss=4.2613, g_loss=-2.6607, alpha=0.333]\n"
          ]
        },
        {
          "output_type": "stream",
          "name": "stdout",
          "text": [
            " Phase: stabilize for 3 epochs\n"
          ]
        },
        {
          "output_type": "stream",
          "name": "stderr",
          "text": [
            "Res8 E1/3: 100%|██████████| 125/125 [00:06<00:00, 18.03it/s, d_loss=-0.1581, g_loss=-0.2085, alpha=1.000]\n",
            "Res8 E2/3: 100%|██████████| 125/125 [00:06<00:00, 18.56it/s, d_loss=0.3417, g_loss=0.8940, alpha=1.000]\n",
            "Res8 E3/3: 100%|██████████| 125/125 [00:06<00:00, 18.13it/s, d_loss=0.5040, g_loss=0.1050, alpha=1.000]\n"
          ]
        },
        {
          "output_type": "stream",
          "name": "stdout",
          "text": [
            "Saved checkpoint for resolution 8\n",
            "\n",
            "*** Training at resolution 16x16 (step 2) ***\n",
            " Phase: transition for 3 epochs\n"
          ]
        },
        {
          "output_type": "stream",
          "name": "stderr",
          "text": [
            "Res16 E1/3: 100%|██████████| 125/125 [00:12<00:00, 10.28it/s, d_loss=6.4964, g_loss=-2.6814, alpha=0.333]\n",
            "Res16 E2/3: 100%|██████████| 125/125 [00:12<00:00, 10.31it/s, d_loss=5.1676, g_loss=5.8384, alpha=0.333]\n",
            "Res16 E3/3: 100%|██████████| 125/125 [00:12<00:00, 10.25it/s, d_loss=6.4558, g_loss=-0.1853, alpha=0.333]\n"
          ]
        },
        {
          "output_type": "stream",
          "name": "stdout",
          "text": [
            " Phase: stabilize for 3 epochs\n"
          ]
        },
        {
          "output_type": "stream",
          "name": "stderr",
          "text": [
            "Res16 E1/3: 100%|██████████| 125/125 [00:11<00:00, 10.67it/s, d_loss=0.5542, g_loss=1.6058, alpha=1.000]\n",
            "Res16 E2/3: 100%|██████████| 125/125 [00:11<00:00, 10.73it/s, d_loss=-1.4552, g_loss=0.3351, alpha=1.000]\n",
            "Res16 E3/3: 100%|██████████| 125/125 [00:11<00:00, 10.76it/s, d_loss=0.5982, g_loss=1.2533, alpha=1.000]\n"
          ]
        },
        {
          "output_type": "stream",
          "name": "stdout",
          "text": [
            "Saved checkpoint for resolution 16\n",
            "\n",
            "*** Training at resolution 32x32 (step 3) ***\n",
            " Phase: transition for 3 epochs\n"
          ]
        },
        {
          "output_type": "stream",
          "name": "stderr",
          "text": [
            "Res32 E1/3: 100%|██████████| 125/125 [00:19<00:00,  6.51it/s, d_loss=0.7979, g_loss=-1.1365, alpha=0.333]\n",
            "Res32 E2/3: 100%|██████████| 125/125 [00:19<00:00,  6.50it/s, d_loss=6.7839, g_loss=-0.2372, alpha=0.333]\n",
            "Res32 E3/3: 100%|██████████| 125/125 [00:19<00:00,  6.49it/s, d_loss=7.2397, g_loss=-2.8322, alpha=0.333]\n"
          ]
        },
        {
          "output_type": "stream",
          "name": "stdout",
          "text": [
            " Phase: stabilize for 3 epochs\n"
          ]
        },
        {
          "output_type": "stream",
          "name": "stderr",
          "text": [
            "Res32 E1/3: 100%|██████████| 125/125 [00:18<00:00,  6.83it/s, d_loss=5.8491, g_loss=3.2659, alpha=1.000]\n",
            "Res32 E2/3: 100%|██████████| 125/125 [00:18<00:00,  6.87it/s, d_loss=-0.8281, g_loss=11.2942, alpha=1.000]\n",
            "Res32 E3/3: 100%|██████████| 125/125 [00:18<00:00,  6.83it/s, d_loss=0.2604, g_loss=-0.1100, alpha=1.000]\n"
          ]
        },
        {
          "output_type": "stream",
          "name": "stdout",
          "text": [
            "Saved checkpoint for resolution 32\n",
            "\n",
            "*** Training at resolution 64x64 (step 4) ***\n",
            " Phase: transition for 3 epochs\n"
          ]
        },
        {
          "output_type": "stream",
          "name": "stderr",
          "text": [
            "Res64 E1/3: 100%|██████████| 125/125 [00:33<00:00,  3.71it/s, d_loss=3.2439, g_loss=11.3026, alpha=0.333]\n",
            "Res64 E2/3: 100%|██████████| 125/125 [00:33<00:00,  3.70it/s, d_loss=-3.5938, g_loss=-8.1709, alpha=0.333]\n",
            "Res64 E3/3: 100%|██████████| 125/125 [00:33<00:00,  3.71it/s, d_loss=7.1210, g_loss=-1.8066, alpha=0.333]\n"
          ]
        },
        {
          "output_type": "stream",
          "name": "stdout",
          "text": [
            " Phase: stabilize for 3 epochs\n"
          ]
        },
        {
          "output_type": "stream",
          "name": "stderr",
          "text": [
            "Res64 E1/3: 100%|██████████| 125/125 [00:31<00:00,  3.92it/s, d_loss=0.1914, g_loss=-30.0850, alpha=1.000]\n",
            "Res64 E2/3: 100%|██████████| 125/125 [00:31<00:00,  3.92it/s, d_loss=0.3593, g_loss=27.0101, alpha=1.000]\n",
            "Res64 E3/3: 100%|██████████| 125/125 [00:31<00:00,  3.92it/s, d_loss=-9.8764, g_loss=-96.4828, alpha=1.000]\n"
          ]
        },
        {
          "output_type": "stream",
          "name": "stdout",
          "text": [
            "Saved checkpoint for resolution 64\n",
            "Training finished (all scheduled resolutions).\n"
          ]
        }
      ]
    },
    {
      "cell_type": "markdown",
      "source": [
        "update cell 6"
      ],
      "metadata": {
        "id": "2axHZBJ1B7Mx"
      }
    },
    {
      "cell_type": "code",
      "source": [
        "# =========================\n",
        "# Progressive GAN Training Loop (Corrected & Updated)\n",
        "# =========================\n",
        "\n",
        "import time\n",
        "from tqdm import tqdm\n",
        "import os\n",
        "import torch\n",
        "from torchvision.utils import save_image\n",
        "\n",
        "device = torch.device(\"cuda\" if torch.cuda.is_available() else \"cpu\")\n",
        "\n",
        "# -------------------------\n",
        "# Hyperparameters\n",
        "# -------------------------\n",
        "z_dim = 128\n",
        "batch_size = 16\n",
        "n_critic = 1\n",
        "lr = 1e-4\n",
        "betas = (0.0, 0.99)\n",
        "lambda_gp = 10.0\n",
        "\n",
        "resolutions = [4, 8, 16, 32, 64]\n",
        "max_step = len(resolutions) - 1\n",
        "\n",
        "transition_epochs = 3     # fade-in epochs\n",
        "stabilize_epochs = 3      # stabilize epochs\n",
        "save_dir = \"./pgan_checkpoints\"\n",
        "os.makedirs(save_dir, exist_ok=True)\n",
        "\n",
        "# -------------------------\n",
        "# Initialize models\n",
        "# -------------------------\n",
        "G = ProgressiveGenerator(z_dim=z_dim, device=device).to(device)\n",
        "D = ProgressiveDiscriminator().to(device)\n",
        "G.apply(weights_init)\n",
        "D.apply(weights_init)\n",
        "\n",
        "opt_G = torch.optim.Adam(G.parameters(), lr=lr, betas=betas)\n",
        "opt_D = torch.optim.Adam(D.parameters(), lr=lr, betas=betas)\n",
        "\n",
        "fixed_z = torch.randn(16, z_dim, device=device)\n",
        "\n",
        "global_step = 0\n",
        "\n",
        "# -------------------------\n",
        "# Start progressive training\n",
        "# -------------------------\n",
        "for step, resolution in enumerate(resolutions):\n",
        "    print(f\"\\n*** Training at resolution {resolution}x{resolution} (step {step}) ***\")\n",
        "\n",
        "    data_folder = \"./shapes_gan_unzipped/train\"  # Update if needed\n",
        "    dl = get_dataloader(data_folder, resolution, batch_size, shuffle=True)\n",
        "    iters_per_epoch = len(dl)\n",
        "\n",
        "    # PHASES: transition -> stabilize\n",
        "    for phase, epochs in [(\"transition\", transition_epochs), (\"stabilize\", stabilize_epochs)]:\n",
        "        print(f\" Phase: {phase} for {epochs} epochs\")\n",
        "        for epoch in range(epochs):\n",
        "            pbar = tqdm(dl, desc=f\"Res{resolution} E{epoch+1}/{epochs}\")\n",
        "            alpha = 0.0 if phase == \"transition\" else 1.0\n",
        "\n",
        "            if phase == \"transition\":\n",
        "                total_transition_steps = transition_epochs * iters_per_epoch\n",
        "                alpha_step = 1.0 / (total_transition_steps + 1e-8)\n",
        "\n",
        "            for imgs in pbar:\n",
        "                imgs = imgs.to(device)\n",
        "                batch_size_cur = imgs.size(0)\n",
        "\n",
        "                # Update alpha during transition\n",
        "                if phase == \"transition\":\n",
        "                    alpha = min(1.0, alpha + alpha_step)\n",
        "\n",
        "                # -------------------------\n",
        "                # Train Discriminator (WGAN-GP)\n",
        "                # -------------------------\n",
        "                z = torch.randn(batch_size_cur, z_dim, device=device)\n",
        "                fake_imgs = G(z, step, alpha).detach()\n",
        "                D_real = D(imgs, step, alpha)\n",
        "                D_fake = D(fake_imgs, step, alpha)\n",
        "                gp = compute_gradient_penalty(D, imgs.data, fake_imgs.data, step, alpha, device, lambda_gp)\n",
        "                d_loss = (D_fake.mean() - D_real.mean()) + gp\n",
        "\n",
        "                opt_D.zero_grad()\n",
        "                d_loss.backward()\n",
        "                opt_D.step()\n",
        "\n",
        "                # -------------------------\n",
        "                # Train Generator\n",
        "                # -------------------------\n",
        "                if global_step % n_critic == 0:\n",
        "                    z = torch.randn(batch_size_cur, z_dim, device=device)\n",
        "                    fake_imgs = G(z, step, alpha)\n",
        "                    g_loss = -D(fake_imgs, step, alpha).mean()\n",
        "\n",
        "                    opt_G.zero_grad()\n",
        "                    g_loss.backward()\n",
        "                    opt_G.step()\n",
        "\n",
        "                global_step += 1\n",
        "\n",
        "                # -------------------------\n",
        "                # Save sample images every 200 steps\n",
        "                # -------------------------\n",
        "                if global_step % 200 == 0:\n",
        "                    G.eval()\n",
        "                    with torch.no_grad():\n",
        "                        samples = G(fixed_z, step, alpha).cpu()\n",
        "                        save_image((samples + 1) / 2.0, f\"{save_dir}/sample_step{global_step}_res{resolution}.png\", nrow=4)\n",
        "                    G.train()\n",
        "\n",
        "                # Update progress bar\n",
        "                pbar.set_postfix({\n",
        "                    'd_loss': f\"{d_loss.item():.4f}\",\n",
        "                    'g_loss': f\"{(g_loss.item() if 'g_loss' in locals() else 0):.4f}\",\n",
        "                    'alpha': f\"{alpha:.3f}\"\n",
        "                })\n",
        "\n",
        "    # -------------------------\n",
        "    # Save checkpoint after each resolution\n",
        "    # -------------------------\n",
        "    torch.save({\n",
        "        'G_state': G.state_dict(),\n",
        "        'D_state': D.state_dict(),\n",
        "        'opt_G': opt_G.state_dict(),\n",
        "        'opt_D': opt_D.state_dict(),\n",
        "        'step': step\n",
        "    }, f\"{save_dir}/pgan_checkpoint_res{resolution}.pt\")\n",
        "\n",
        "    print(f\"Saved checkpoint for resolution {resolution}\")\n",
        "\n",
        "print(\"Training finished (all scheduled resolutions).\")\n"
      ],
      "metadata": {
        "colab": {
          "base_uri": "https://localhost:8080/"
        },
        "id": "bOh8EPZyB9ij",
        "outputId": "1526189a-2b39-40b6-c753-2c1dd994868b"
      },
      "execution_count": 17,
      "outputs": [
        {
          "output_type": "stream",
          "name": "stdout",
          "text": [
            "\n",
            "*** Training at resolution 4x4 (step 0) ***\n",
            " Phase: transition for 3 epochs\n"
          ]
        },
        {
          "output_type": "stream",
          "name": "stderr",
          "text": [
            "Res4 E1/3: 100%|██████████| 125/125 [00:03<00:00, 36.81it/s, d_loss=0.2829, g_loss=-0.1347, alpha=0.333]\n",
            "Res4 E2/3: 100%|██████████| 125/125 [00:02<00:00, 46.79it/s, d_loss=0.7156, g_loss=0.8920, alpha=0.333]\n",
            "Res4 E3/3: 100%|██████████| 125/125 [00:02<00:00, 46.16it/s, d_loss=-0.6735, g_loss=1.6149, alpha=0.333]\n"
          ]
        },
        {
          "output_type": "stream",
          "name": "stdout",
          "text": [
            " Phase: stabilize for 3 epochs\n"
          ]
        },
        {
          "output_type": "stream",
          "name": "stderr",
          "text": [
            "Res4 E1/3: 100%|██████████| 125/125 [00:02<00:00, 46.72it/s, d_loss=0.0685, g_loss=1.1159, alpha=1.000]\n",
            "Res4 E2/3: 100%|██████████| 125/125 [00:02<00:00, 42.69it/s, d_loss=-0.6488, g_loss=2.4465, alpha=1.000]\n",
            "Res4 E3/3: 100%|██████████| 125/125 [00:03<00:00, 39.66it/s, d_loss=0.3361, g_loss=0.8653, alpha=1.000]\n"
          ]
        },
        {
          "output_type": "stream",
          "name": "stdout",
          "text": [
            "Saved checkpoint for resolution 4\n",
            "\n",
            "*** Training at resolution 8x8 (step 1) ***\n",
            " Phase: transition for 3 epochs\n"
          ]
        },
        {
          "output_type": "stream",
          "name": "stderr",
          "text": [
            "Res8 E1/3: 100%|██████████| 125/125 [00:06<00:00, 17.94it/s, d_loss=0.0163, g_loss=1.1188, alpha=0.333]\n",
            "Res8 E2/3: 100%|██████████| 125/125 [00:07<00:00, 17.40it/s, d_loss=3.3092, g_loss=-1.5696, alpha=0.333]\n",
            "Res8 E3/3: 100%|██████████| 125/125 [00:06<00:00, 18.01it/s, d_loss=0.2632, g_loss=3.6069, alpha=0.333]\n"
          ]
        },
        {
          "output_type": "stream",
          "name": "stdout",
          "text": [
            " Phase: stabilize for 3 epochs\n"
          ]
        },
        {
          "output_type": "stream",
          "name": "stderr",
          "text": [
            "Res8 E1/3: 100%|██████████| 125/125 [00:06<00:00, 18.04it/s, d_loss=-0.6104, g_loss=-0.4387, alpha=1.000]\n",
            "Res8 E2/3: 100%|██████████| 125/125 [00:06<00:00, 18.03it/s, d_loss=0.8430, g_loss=1.2481, alpha=1.000]\n",
            "Res8 E3/3: 100%|██████████| 125/125 [00:06<00:00, 18.56it/s, d_loss=0.3452, g_loss=0.9017, alpha=1.000]\n"
          ]
        },
        {
          "output_type": "stream",
          "name": "stdout",
          "text": [
            "Saved checkpoint for resolution 8\n",
            "\n",
            "*** Training at resolution 16x16 (step 2) ***\n",
            " Phase: transition for 3 epochs\n"
          ]
        },
        {
          "output_type": "stream",
          "name": "stderr",
          "text": [
            "Res16 E1/3: 100%|██████████| 125/125 [00:12<00:00, 10.29it/s, d_loss=3.5163, g_loss=-2.3152, alpha=0.333]\n",
            "Res16 E2/3: 100%|██████████| 125/125 [00:12<00:00, 10.30it/s, d_loss=4.7744, g_loss=1.9197, alpha=0.333]\n",
            "Res16 E3/3: 100%|██████████| 125/125 [00:12<00:00, 10.21it/s, d_loss=5.0363, g_loss=-4.7412, alpha=0.333]\n"
          ]
        },
        {
          "output_type": "stream",
          "name": "stdout",
          "text": [
            " Phase: stabilize for 3 epochs\n"
          ]
        },
        {
          "output_type": "stream",
          "name": "stderr",
          "text": [
            "Res16 E1/3: 100%|██████████| 125/125 [00:11<00:00, 10.74it/s, d_loss=0.5587, g_loss=4.8715, alpha=1.000]\n",
            "Res16 E2/3: 100%|██████████| 125/125 [00:11<00:00, 10.73it/s, d_loss=-3.7909, g_loss=19.6620, alpha=1.000]\n",
            "Res16 E3/3: 100%|██████████| 125/125 [00:11<00:00, 10.79it/s, d_loss=-1.1221, g_loss=0.6168, alpha=1.000]\n"
          ]
        },
        {
          "output_type": "stream",
          "name": "stdout",
          "text": [
            "Saved checkpoint for resolution 16\n",
            "\n",
            "*** Training at resolution 32x32 (step 3) ***\n",
            " Phase: transition for 3 epochs\n"
          ]
        },
        {
          "output_type": "stream",
          "name": "stderr",
          "text": [
            "Res32 E1/3: 100%|██████████| 125/125 [00:19<00:00,  6.50it/s, d_loss=1.1813, g_loss=9.6398, alpha=0.333]\n",
            "Res32 E2/3: 100%|██████████| 125/125 [00:19<00:00,  6.49it/s, d_loss=-1.5125, g_loss=19.8798, alpha=0.333]\n",
            "Res32 E3/3: 100%|██████████| 125/125 [00:19<00:00,  6.47it/s, d_loss=2.1067, g_loss=6.9935, alpha=0.333]\n"
          ]
        },
        {
          "output_type": "stream",
          "name": "stdout",
          "text": [
            " Phase: stabilize for 3 epochs\n"
          ]
        },
        {
          "output_type": "stream",
          "name": "stderr",
          "text": [
            "Res32 E1/3: 100%|██████████| 125/125 [00:18<00:00,  6.82it/s, d_loss=0.0964, g_loss=3.8643, alpha=1.000]\n",
            "Res32 E2/3: 100%|██████████| 125/125 [00:18<00:00,  6.80it/s, d_loss=0.0861, g_loss=12.5431, alpha=1.000]\n",
            "Res32 E3/3: 100%|██████████| 125/125 [00:18<00:00,  6.83it/s, d_loss=-4.1542, g_loss=0.4979, alpha=1.000]\n"
          ]
        },
        {
          "output_type": "stream",
          "name": "stdout",
          "text": [
            "Saved checkpoint for resolution 32\n",
            "\n",
            "*** Training at resolution 64x64 (step 4) ***\n",
            " Phase: transition for 3 epochs\n"
          ]
        },
        {
          "output_type": "stream",
          "name": "stderr",
          "text": [
            "Res64 E1/3: 100%|██████████| 125/125 [00:33<00:00,  3.71it/s, d_loss=2.2442, g_loss=-3.8791, alpha=0.333]\n",
            "Res64 E2/3: 100%|██████████| 125/125 [00:33<00:00,  3.70it/s, d_loss=0.8945, g_loss=11.0043, alpha=0.333]\n",
            "Res64 E3/3: 100%|██████████| 125/125 [00:33<00:00,  3.71it/s, d_loss=-5.5563, g_loss=4.3224, alpha=0.333]\n"
          ]
        },
        {
          "output_type": "stream",
          "name": "stdout",
          "text": [
            " Phase: stabilize for 3 epochs\n"
          ]
        },
        {
          "output_type": "stream",
          "name": "stderr",
          "text": [
            "Res64 E1/3: 100%|██████████| 125/125 [00:31<00:00,  3.91it/s, d_loss=-7.2344, g_loss=40.5816, alpha=1.000]\n",
            "Res64 E2/3: 100%|██████████| 125/125 [00:31<00:00,  3.91it/s, d_loss=7.1538, g_loss=-4.6396, alpha=1.000]\n",
            "Res64 E3/3: 100%|██████████| 125/125 [00:31<00:00,  3.92it/s, d_loss=1.0199, g_loss=14.3471, alpha=1.000]\n"
          ]
        },
        {
          "output_type": "stream",
          "name": "stdout",
          "text": [
            "Saved checkpoint for resolution 64\n",
            "Training finished (all scheduled resolutions).\n"
          ]
        }
      ]
    },
    {
      "cell_type": "code",
      "source": [
        "# Cell 7 — generate images from a checkpoint or trained model\n",
        "from PIL import Image\n",
        "import matplotlib.pyplot as plt\n",
        "ckpt = torch.load(\"./pgan_checkpoints/pgan_checkpoint_res64.pt\", map_location=device)\n",
        "G.load_state_dict(ckpt['G_state'])\n",
        "G.eval()\n",
        "z = torch.randn(16, z_dim, device=device)\n",
        "with torch.no_grad():\n",
        "    imgs = G(z, step=4, alpha=1.0).cpu()   # step 4 -> 64x64\n",
        "# save grid\n",
        "save_image_grid(imgs, \"./pgan_checkpoints/generated64.png\", nrow=4)\n",
        "# show one sample in notebook\n",
        "grid = (imgs[0]+1)/2\n",
        "plt.imshow(grid.permute(1,2,0).numpy())\n",
        "plt.axis('off')\n"
      ],
      "metadata": {
        "colab": {
          "base_uri": "https://localhost:8080/",
          "height": 423
        },
        "id": "8CY9ZVvQ_6j8",
        "outputId": "014f2011-1c76-42e1-d7a9-700aa676beea"
      },
      "execution_count": 16,
      "outputs": [
        {
          "output_type": "execute_result",
          "data": {
            "text/plain": [
              "(np.float64(-0.5), np.float64(63.5), np.float64(63.5), np.float64(-0.5))"
            ]
          },
          "metadata": {},
          "execution_count": 16
        },
        {
          "output_type": "display_data",
          "data": {
            "text/plain": [
              "<Figure size 640x480 with 1 Axes>"
            ],
            "image/png": "[encoded data removed]"
          },
          "metadata": {}
        }
      ]
    },
    {
      "cell_type": "code",
      "source": [],
      "metadata": {
        "id": "ig6Wqar5Dxe2"
      },
      "execution_count": 20,
      "outputs": []
    },
    {
      "cell_type": "code",
      "source": [
        "\n"
      ],
      "metadata": {
        "id": "aEoU9LJ4D6x8"
      },
      "execution_count": 20,
      "outputs": []
    },
    {
      "cell_type": "code",
      "source": [
        "# =========================\n",
        "# Generate images at all PGGAN stages\n",
        "# =========================\n",
        "\n",
        "from PIL import Image\n",
        "import matplotlib.pyplot as plt\n",
        "\n",
        "# Load checkpoint\n",
        "ckpt = torch.load(\"./pgan_checkpoints/pgan_checkpoint_res64.pt\", map_location=device)\n",
        "G.load_state_dict(ckpt['G_state'])\n",
        "G.eval()\n",
        "\n",
        "# Fixed latent vector for reproducibility\n",
        "fixed_z = torch.randn(16, z_dim, device=device)\n",
        "\n",
        "# Define resolutions corresponding to steps\n",
        "resolutions = [4, 8, 16, 32, 64]\n",
        "\n",
        "# Directory to save generated grids\n",
        "os.makedirs(\"./pgan_checkpoints/progressive_samples\", exist_ok=True)\n",
        "\n",
        "# Generate and display images for each step\n",
        "for step, res in enumerate(resolutions):\n",
        "    alpha = 1.0  # full alpha for stable generation\n",
        "    with torch.no_grad():\n",
        "        imgs = G(fixed_z, step=step, alpha=alpha).cpu()\n",
        "        # save grid\n",
        "        save_image((imgs + 1)/2.0, f\"./pgan_checkpoints/progressive_samples/generated_{res}x{res}.png\", nrow=4)\n",
        "\n",
        "    # Display one sample (first image in batch)\n",
        "    grid = (imgs[0] + 1)/2.0\n",
        "    plt.figure(figsize=(3,3))\n",
        "    plt.imshow(grid.permute(1,2,0).numpy())\n",
        "    plt.axis('off')\n",
        "    plt.title(f\"Generated Image at {res}x{res}\")\n",
        "    plt.show()\n"
      ],
      "metadata": {
        "colab": {
          "base_uri": "https://localhost:8080/",
          "height": 1000
        },
        "id": "uqJLk7hkEmav",
        "outputId": "7fa65664-02f0-4af0-c9d2-51e204655707"
      },
      "execution_count": 20,
      "outputs": [
        {
          "output_type": "display_data",
          "data": {
            "text/plain": [
              "<Figure size 300x300 with 1 Axes>"
            ],
            "image/png": "[encoded data removed]"
          },
          "metadata": {}
        },
        {
          "output_type": "display_data",
          "data": {
            "text/plain": [
              "<Figure size 300x300 with 1 Axes>"
            ],
            "image/png": "[encoded data removed]"
          },
          "metadata": {}
        },
        {
          "output_type": "display_data",
          "data": {
            "text/plain": [
              "<Figure size 300x300 with 1 Axes>"
            ],
            "image/png": "[encoded data removed]"
          },
          "metadata": {}
        },
        {
          "output_type": "display_data",
          "data": {
            "text/plain": [
              "<Figure size 300x300 with 1 Axes>"
            ],
            "image/png": "[encoded data removed]"
          },
          "metadata": {}
        },
        {
          "output_type": "display_data",
          "data": {
            "text/plain": [
              "<Figure size 300x300 with 1 Axes>"
            ],
            "image/png": "[encoded data removed]"
          },
          "metadata": {}
        }
      ]
    }
  ]
}